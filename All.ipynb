{
 "cells": [
  {
   "cell_type": "code",
   "execution_count": 5,
   "id": "initial_id",
   "metadata": {
    "collapsed": true,
    "ExecuteTime": {
     "end_time": "2024-11-23T05:00:24.709163900Z",
     "start_time": "2024-11-23T05:00:02.458797800Z"
    }
   },
   "outputs": [
    {
     "ename": "EOFError",
     "evalue": "Ran out of input",
     "output_type": "error",
     "traceback": [
      "\u001B[1;31m---------------------------------------------------------------------------\u001B[0m",
      "\u001B[1;31mEOFError\u001B[0m                                  Traceback (most recent call last)",
      "Cell \u001B[1;32mIn[5], line 33\u001B[0m\n\u001B[0;32m     31\u001B[0m model_file_name \u001B[38;5;241m=\u001B[39m \u001B[38;5;124m\"\u001B[39m\u001B[38;5;124mmodelo_mlp.pkl\u001B[39m\u001B[38;5;124m\"\u001B[39m\n\u001B[0;32m     32\u001B[0m \u001B[38;5;28;01mwith\u001B[39;00m \u001B[38;5;28mopen\u001B[39m(\u001B[38;5;124mfr\u001B[39m\u001B[38;5;124m\"\u001B[39m\u001B[38;5;132;01m{\u001B[39;00mpath\u001B[38;5;132;01m}\u001B[39;00m\u001B[38;5;132;01m{\u001B[39;00mmodel_file_name\u001B[38;5;132;01m}\u001B[39;00m\u001B[38;5;124m\"\u001B[39m, \u001B[38;5;124m'\u001B[39m\u001B[38;5;124mrb\u001B[39m\u001B[38;5;124m'\u001B[39m) \u001B[38;5;28;01mas\u001B[39;00m file:\n\u001B[1;32m---> 33\u001B[0m     model \u001B[38;5;241m=\u001B[39m \u001B[43mpickle\u001B[49m\u001B[38;5;241;43m.\u001B[39;49m\u001B[43mload\u001B[49m\u001B[43m(\u001B[49m\u001B[43mfile\u001B[49m\u001B[43m)\u001B[49m\n\u001B[0;32m     35\u001B[0m \u001B[38;5;66;03m# Cargar las explicaciones\u001B[39;00m\n\u001B[0;32m     36\u001B[0m \u001B[38;5;28;01mwith\u001B[39;00m \u001B[38;5;28mopen\u001B[39m(\u001B[38;5;124m\"\u001B[39m\u001B[38;5;124mExplainers/lime_explainer_iml.pkl\u001B[39m\u001B[38;5;124m\"\u001B[39m, \u001B[38;5;124m\"\u001B[39m\u001B[38;5;124mrb\u001B[39m\u001B[38;5;124m\"\u001B[39m) \u001B[38;5;28;01mas\u001B[39;00m archivo:\n",
      "\u001B[1;31mEOFError\u001B[0m: Ran out of input"
     ]
    }
   ],
   "source": [
    "import pickle\n",
    "import pandas as pd\n",
    "import pickle\n",
    "import cloudpickle\n",
    "import streamlit as st\n",
    "import lime.lime_tabular\n",
    "import shap\n",
    "import captum\n",
    "from interpret.blackbox import LimeTabular\n",
    "from interpret import show\n",
    "from interpret.blackbox import ShapKernel\n",
    "from interpret import set_visualize_provider\n",
    "from interpret.provider import InlineProvider\n",
    "import time\n",
    "\n",
    "\n",
    "set_visualize_provider(InlineProvider())\n",
    "from interpret import show\n",
    "import torch\n",
    "import torch.nn as nn\n",
    "from captum.attr import IntegratedGradients\n",
    "from captum.attr import Saliency\n",
    "import numpy as np\n",
    "import matplotlib.pyplot as plt\n",
    "\n",
    "\n",
    "\n",
    "\n",
    "# Cargar el modelo fijo\n",
    "path = r\"./Modelos/\"\n",
    "model_file_name = \"modelo_mlp.pkl\"\n",
    "with open(fr\"{path}{model_file_name}\", 'rb') as file:\n",
    "    model = pickle.load(file)\n",
    "\n",
    "# Cargar las explicaciones\n",
    "with open(\"Explainers/lime_explainer_iml.pkl\", \"rb\") as archivo:\n",
    "    lime_grafica = pickle.load(archivo)\n",
    "with open(\"Explainers/shap_explainer_iml.pkl\", \"rb\") as archivo:\n",
    "    shap_grafica = pickle.load(archivo)\n",
    "\n",
    "# with open(\"Explainers/lime_explainer.pkl\", \"rb\") as archivo:\n",
    "#     lime_exp = pickle.load(archivo)\n",
    "#\n",
    "\n",
    "with open(\"Explainers/lime_explainer.pkl\", \"rb\") as archivo:\n",
    "    lime_exp = pickle.load(archivo)\n",
    "\n",
    "\n",
    "with open(\"Explainers/shap_explainer.pkl\", \"rb\") as archivo:\n",
    "    shap_exp = pickle.load(archivo)\n",
    "with open(\"Explainers/ig_explainer.pkl\", \"rb\") as archivo:\n",
    "    ig_exp = pickle.load(archivo)\n",
    "with open(\"Explainers/saliency_explainer.pkl\", \"rb\") as archivo:\n",
    "    saliency_exp = pickle.load(archivo)"
   ]
  },
  {
   "cell_type": "code",
   "execution_count": null,
   "outputs": [],
   "source": [],
   "metadata": {
    "collapsed": false
   },
   "id": "7925955a6d44ed10"
  }
 ],
 "metadata": {
  "kernelspec": {
   "display_name": "Python 3",
   "language": "python",
   "name": "python3"
  },
  "language_info": {
   "codemirror_mode": {
    "name": "ipython",
    "version": 2
   },
   "file_extension": ".py",
   "mimetype": "text/x-python",
   "name": "python",
   "nbconvert_exporter": "python",
   "pygments_lexer": "ipython2",
   "version": "2.7.6"
  }
 },
 "nbformat": 4,
 "nbformat_minor": 5
}
