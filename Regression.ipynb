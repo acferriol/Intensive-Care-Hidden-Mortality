{
 "cells": [
  {
   "cell_type": "code",
   "execution_count": 1,
   "metadata": {},
   "outputs": [],
   "source": [
    "import pandas as pd\n",
    "import numpy as np\n",
    "import matplotlib.pyplot as plt\n",
    "import seaborn as sns\n",
    "from sklearn.metrics import confusion_matrix\n",
    "from sklearn.metrics import classification_report\n",
    "from sklearn.model_selection import train_test_split\n",
    "from sklearn.linear_model import LogisticRegression\n",
    "from imblearn.over_sampling import RandomOverSampler\n",
    "from sklearn.neural_network import MLPRegressor\n",
    "from sklearn.model_selection import cross_val_score\n",
    "from sklearn.metrics import mean_absolute_error, mean_squared_error\n",
    "from collections import Counter"
   ]
  },
  {
   "cell_type": "code",
   "execution_count": 2,
   "metadata": {},
   "outputs": [
    {
     "data": {
      "text/html": [
       "<div>\n",
       "<style scoped>\n",
       "    .dataframe tbody tr th:only-of-type {\n",
       "        vertical-align: middle;\n",
       "    }\n",
       "\n",
       "    .dataframe tbody tr th {\n",
       "        vertical-align: top;\n",
       "    }\n",
       "\n",
       "    .dataframe thead th {\n",
       "        text-align: right;\n",
       "    }\n",
       "</style>\n",
       "<table border=\"1\" class=\"dataframe\">\n",
       "  <thead>\n",
       "    <tr style=\"text-align: right;\">\n",
       "      <th></th>\n",
       "      <th>Edad</th>\n",
       "      <th>Diag.Ing1</th>\n",
       "      <th>Diag.Ing2</th>\n",
       "      <th>Diag.Egr1</th>\n",
       "      <th>Diag.Egr2</th>\n",
       "      <th>APACHE</th>\n",
       "      <th>TiempoVAM</th>\n",
       "      <th>Fallece</th>\n",
       "    </tr>\n",
       "  </thead>\n",
       "  <tbody>\n",
       "    <tr>\n",
       "      <th>0</th>\n",
       "      <td>35</td>\n",
       "      <td>1</td>\n",
       "      <td>0</td>\n",
       "      <td>1</td>\n",
       "      <td>0</td>\n",
       "      <td>10</td>\n",
       "      <td>2</td>\n",
       "      <td>0</td>\n",
       "    </tr>\n",
       "    <tr>\n",
       "      <th>1</th>\n",
       "      <td>87</td>\n",
       "      <td>2</td>\n",
       "      <td>0</td>\n",
       "      <td>2</td>\n",
       "      <td>0</td>\n",
       "      <td>16</td>\n",
       "      <td>2</td>\n",
       "      <td>0</td>\n",
       "    </tr>\n",
       "    <tr>\n",
       "      <th>2</th>\n",
       "      <td>70</td>\n",
       "      <td>4</td>\n",
       "      <td>0</td>\n",
       "      <td>4</td>\n",
       "      <td>0</td>\n",
       "      <td>11</td>\n",
       "      <td>2</td>\n",
       "      <td>0</td>\n",
       "    </tr>\n",
       "    <tr>\n",
       "      <th>3</th>\n",
       "      <td>24</td>\n",
       "      <td>13</td>\n",
       "      <td>0</td>\n",
       "      <td>13</td>\n",
       "      <td>5</td>\n",
       "      <td>11</td>\n",
       "      <td>2</td>\n",
       "      <td>0</td>\n",
       "    </tr>\n",
       "    <tr>\n",
       "      <th>4</th>\n",
       "      <td>24</td>\n",
       "      <td>3</td>\n",
       "      <td>0</td>\n",
       "      <td>3</td>\n",
       "      <td>0</td>\n",
       "      <td>17</td>\n",
       "      <td>3</td>\n",
       "      <td>0</td>\n",
       "    </tr>\n",
       "  </tbody>\n",
       "</table>\n",
       "</div>"
      ],
      "text/plain": [
       "   Edad  Diag.Ing1  Diag.Ing2  Diag.Egr1  Diag.Egr2  APACHE  TiempoVAM  \\\n",
       "0    35          1          0          1          0      10          2   \n",
       "1    87          2          0          2          0      16          2   \n",
       "2    70          4          0          4          0      11          2   \n",
       "3    24         13          0         13          5      11          2   \n",
       "4    24          3          0          3          0      17          3   \n",
       "\n",
       "   Fallece  \n",
       "0        0  \n",
       "1        0  \n",
       "2        0  \n",
       "3        0  \n",
       "4        0  "
      ]
     },
     "execution_count": 2,
     "metadata": {},
     "output_type": "execute_result"
    }
   ],
   "source": [
    "df = pd.read_csv(\"Datos_regresion.csv\") # read in data downloaded to the local directory\n",
    "df.head()"
   ]
  },
  {
   "cell_type": "code",
   "execution_count": 3,
   "metadata": {},
   "outputs": [
    {
     "data": {
      "text/html": [
       "<div>\n",
       "<style scoped>\n",
       "    .dataframe tbody tr th:only-of-type {\n",
       "        vertical-align: middle;\n",
       "    }\n",
       "\n",
       "    .dataframe tbody tr th {\n",
       "        vertical-align: top;\n",
       "    }\n",
       "\n",
       "    .dataframe thead th {\n",
       "        text-align: right;\n",
       "    }\n",
       "</style>\n",
       "<table border=\"1\" class=\"dataframe\">\n",
       "  <thead>\n",
       "    <tr style=\"text-align: right;\">\n",
       "      <th></th>\n",
       "      <th>Edad</th>\n",
       "      <th>APACHE</th>\n",
       "      <th>TiempoVAM</th>\n",
       "      <th>Diag.Ing1_1</th>\n",
       "      <th>Diag.Ing1_2</th>\n",
       "      <th>Diag.Ing1_3</th>\n",
       "      <th>Diag.Ing1_4</th>\n",
       "      <th>Diag.Ing1_5</th>\n",
       "      <th>Diag.Ing1_6</th>\n",
       "      <th>Diag.Ing1_7</th>\n",
       "      <th>...</th>\n",
       "      <th>Diag.Egr2_21</th>\n",
       "      <th>Diag.Egr2_22</th>\n",
       "      <th>Diag.Egr2_23</th>\n",
       "      <th>Diag.Egr2_24</th>\n",
       "      <th>Diag.Egr2_25</th>\n",
       "      <th>Diag.Egr2_27</th>\n",
       "      <th>Diag.Egr2_33</th>\n",
       "      <th>Diag.Egr2_34</th>\n",
       "      <th>Diag.Egr2_36</th>\n",
       "      <th>Fallece</th>\n",
       "    </tr>\n",
       "  </thead>\n",
       "  <tbody>\n",
       "    <tr>\n",
       "      <th>0</th>\n",
       "      <td>35</td>\n",
       "      <td>10</td>\n",
       "      <td>2</td>\n",
       "      <td>1</td>\n",
       "      <td>0</td>\n",
       "      <td>0</td>\n",
       "      <td>0</td>\n",
       "      <td>0</td>\n",
       "      <td>0</td>\n",
       "      <td>0</td>\n",
       "      <td>...</td>\n",
       "      <td>0</td>\n",
       "      <td>0</td>\n",
       "      <td>0</td>\n",
       "      <td>0</td>\n",
       "      <td>0</td>\n",
       "      <td>0</td>\n",
       "      <td>0</td>\n",
       "      <td>0</td>\n",
       "      <td>0</td>\n",
       "      <td>0</td>\n",
       "    </tr>\n",
       "    <tr>\n",
       "      <th>1</th>\n",
       "      <td>87</td>\n",
       "      <td>16</td>\n",
       "      <td>2</td>\n",
       "      <td>0</td>\n",
       "      <td>1</td>\n",
       "      <td>0</td>\n",
       "      <td>0</td>\n",
       "      <td>0</td>\n",
       "      <td>0</td>\n",
       "      <td>0</td>\n",
       "      <td>...</td>\n",
       "      <td>0</td>\n",
       "      <td>0</td>\n",
       "      <td>0</td>\n",
       "      <td>0</td>\n",
       "      <td>0</td>\n",
       "      <td>0</td>\n",
       "      <td>0</td>\n",
       "      <td>0</td>\n",
       "      <td>0</td>\n",
       "      <td>0</td>\n",
       "    </tr>\n",
       "    <tr>\n",
       "      <th>2</th>\n",
       "      <td>70</td>\n",
       "      <td>11</td>\n",
       "      <td>2</td>\n",
       "      <td>0</td>\n",
       "      <td>0</td>\n",
       "      <td>0</td>\n",
       "      <td>1</td>\n",
       "      <td>0</td>\n",
       "      <td>0</td>\n",
       "      <td>0</td>\n",
       "      <td>...</td>\n",
       "      <td>0</td>\n",
       "      <td>0</td>\n",
       "      <td>0</td>\n",
       "      <td>0</td>\n",
       "      <td>0</td>\n",
       "      <td>0</td>\n",
       "      <td>0</td>\n",
       "      <td>0</td>\n",
       "      <td>0</td>\n",
       "      <td>0</td>\n",
       "    </tr>\n",
       "    <tr>\n",
       "      <th>3</th>\n",
       "      <td>24</td>\n",
       "      <td>11</td>\n",
       "      <td>2</td>\n",
       "      <td>0</td>\n",
       "      <td>0</td>\n",
       "      <td>0</td>\n",
       "      <td>0</td>\n",
       "      <td>0</td>\n",
       "      <td>0</td>\n",
       "      <td>0</td>\n",
       "      <td>...</td>\n",
       "      <td>0</td>\n",
       "      <td>0</td>\n",
       "      <td>0</td>\n",
       "      <td>0</td>\n",
       "      <td>0</td>\n",
       "      <td>0</td>\n",
       "      <td>0</td>\n",
       "      <td>0</td>\n",
       "      <td>0</td>\n",
       "      <td>0</td>\n",
       "    </tr>\n",
       "    <tr>\n",
       "      <th>4</th>\n",
       "      <td>24</td>\n",
       "      <td>17</td>\n",
       "      <td>3</td>\n",
       "      <td>0</td>\n",
       "      <td>0</td>\n",
       "      <td>1</td>\n",
       "      <td>0</td>\n",
       "      <td>0</td>\n",
       "      <td>0</td>\n",
       "      <td>0</td>\n",
       "      <td>...</td>\n",
       "      <td>0</td>\n",
       "      <td>0</td>\n",
       "      <td>0</td>\n",
       "      <td>0</td>\n",
       "      <td>0</td>\n",
       "      <td>0</td>\n",
       "      <td>0</td>\n",
       "      <td>0</td>\n",
       "      <td>0</td>\n",
       "      <td>0</td>\n",
       "    </tr>\n",
       "  </tbody>\n",
       "</table>\n",
       "<p>5 rows × 117 columns</p>\n",
       "</div>"
      ],
      "text/plain": [
       "   Edad  APACHE  TiempoVAM  Diag.Ing1_1  Diag.Ing1_2  Diag.Ing1_3  \\\n",
       "0    35      10          2            1            0            0   \n",
       "1    87      16          2            0            1            0   \n",
       "2    70      11          2            0            0            0   \n",
       "3    24      11          2            0            0            0   \n",
       "4    24      17          3            0            0            1   \n",
       "\n",
       "   Diag.Ing1_4  Diag.Ing1_5  Diag.Ing1_6  Diag.Ing1_7  ...  Diag.Egr2_21  \\\n",
       "0            0            0            0            0  ...             0   \n",
       "1            0            0            0            0  ...             0   \n",
       "2            1            0            0            0  ...             0   \n",
       "3            0            0            0            0  ...             0   \n",
       "4            0            0            0            0  ...             0   \n",
       "\n",
       "   Diag.Egr2_22  Diag.Egr2_23  Diag.Egr2_24  Diag.Egr2_25  Diag.Egr2_27  \\\n",
       "0             0             0             0             0             0   \n",
       "1             0             0             0             0             0   \n",
       "2             0             0             0             0             0   \n",
       "3             0             0             0             0             0   \n",
       "4             0             0             0             0             0   \n",
       "\n",
       "   Diag.Egr2_33  Diag.Egr2_34  Diag.Egr2_36  Fallece  \n",
       "0             0             0             0        0  \n",
       "1             0             0             0        0  \n",
       "2             0             0             0        0  \n",
       "3             0             0             0        0  \n",
       "4             0             0             0        0  \n",
       "\n",
       "[5 rows x 117 columns]"
      ]
     },
     "execution_count": 3,
     "metadata": {},
     "output_type": "execute_result"
    }
   ],
   "source": [
    "# Se crea un nuevo dataset con los datos de forma tal que puedan ser procesados por el algoritmo\n",
    "df_new = df[[\"Edad\", \"APACHE\", \"TiempoVAM\"]]\n",
    "lista = [\"Diag.Ing1\", \"Diag.Ing2\", \"Diag.Egr1\", \"Diag.Egr2\"]\n",
    "for i in lista:\n",
    "    new = pd.get_dummies(df[i], prefix=i)\n",
    "    df_new = pd.concat([df_new , new], axis = 1)\n",
    "df_new = pd.concat([df_new , df.Fallece], axis =1)\n",
    "df = df_new\n",
    "df.head()"
   ]
  },
  {
   "cell_type": "code",
   "execution_count": 4,
   "metadata": {},
   "outputs": [],
   "source": [
    "# Tomamos un dato para predecir su probabilidad de morir\n",
    "x_pred_f = df.loc[df.Fallece == 1]\n",
    "x_pred_f = x_pred_f[1:2]\n",
    "x_pred_f = x_pred_f.drop(\"Fallece\", axis =1)"
   ]
  },
  {
   "cell_type": "code",
   "execution_count": 5,
   "metadata": {},
   "outputs": [],
   "source": [
    "# Tomamos un dato para predecir su probabilidad de vivir\n",
    "x_pred_v = df.loc[df.Fallece == 0]\n",
    "x_pred_v = x_pred_v[:1]\n",
    "x_pred_v = x_pred_v.drop(\"Fallece\", axis =1)"
   ]
  },
  {
   "cell_type": "code",
   "execution_count": 6,
   "metadata": {},
   "outputs": [
    {
     "name": "stdout",
     "output_type": "stream",
     "text": [
      "(208, 117)\n",
      "0    176\n",
      "1     32\n",
      "Name: Fallece, dtype: int64\n"
     ]
    }
   ],
   "source": [
    "print(df.shape)\n",
    "print(pd.value_counts(df['Fallece'], sort = True))"
   ]
  },
  {
   "cell_type": "code",
   "execution_count": 7,
   "metadata": {},
   "outputs": [
    {
     "data": {
      "text/plain": [
       "Text(0, 0.5, 'Number of Observations')"
      ]
     },
     "execution_count": 7,
     "metadata": {},
     "output_type": "execute_result"
    },
    {
     "data": {
      "image/png": "[encoded data removed]",
      "text/plain": [
       "<Figure size 640x480 with 1 Axes>"
      ]
     },
     "metadata": {},
     "output_type": "display_data"
    }
   ],
   "source": [
    "count_classes = pd.value_counts(df['Fallece'], sort = True)\n",
    "count_classes.plot(kind = 'bar', rot=0)\n",
    "plt.xticks(range(2))\n",
    "plt.title(\"Frequency by observation number\")\n",
    "plt.xlabel(\"Fallece\")\n",
    "plt.ylabel(\"Number of Observations\")"
   ]
  },
  {
   "cell_type": "code",
   "execution_count": 8,
   "metadata": {},
   "outputs": [],
   "source": [
    "#definimos nuestras etiquetas y features\n",
    "y = df['Fallece']\n",
    "X = df.drop('Fallece', axis=1)"
   ]
  },
  {
   "cell_type": "code",
   "execution_count": 9,
   "metadata": {},
   "outputs": [
    {
     "name": "stdout",
     "output_type": "stream",
     "text": [
      "Distribution before resampling Counter({0: 176, 1: 32})\n",
      "Distribution labels after resampling Counter({0: 176, 1: 176})\n"
     ]
    }
   ],
   "source": [
    "# Se realiza el OVerSampling\n",
    "os =  RandomOverSampler(random_state=42)\n",
    "X_train_res, y_train_res = os.fit_resample(X, y)\n",
    "print (\"Distribution before resampling {}\".format(Counter(y)))\n",
    "print (\"Distribution labels after resampling {}\".format(Counter(y_train_res)))"
   ]
  },
  {
   "cell_type": "code",
   "execution_count": 10,
   "metadata": {},
   "outputs": [],
   "source": [
    "#dividimos en sets de entrenamiento y test\n",
    "X_train, X_test, y_train, y_test = train_test_split(X_train_res, y_train_res, train_size=0.8, random_state=42)"
   ]
  },
  {
   "cell_type": "code",
   "execution_count": 11,
   "metadata": {},
   "outputs": [],
   "source": [
    "# Se aplica el algorimo de Regresion Logistica\n",
    "clf = LogisticRegression(C=1.0,penalty='l2',random_state=1,solver=\"newton-cg\")\n",
    "clf.fit(X_train, y_train)\n",
    "y_pred = clf.predict(X_test)"
   ]
  },
  {
   "cell_type": "code",
   "execution_count": 12,
   "metadata": {},
   "outputs": [],
   "source": [
    "# Resultado del algorimo: [probabilidad de que viva: probabilidad de que muera]\n",
    "prob = clf.predict_proba(X)\n",
    "np.savetxt(\"prob.csv\", prob, delimiter=',')"
   ]
  },
  {
   "cell_type": "code",
   "execution_count": 13,
   "metadata": {},
   "outputs": [
    {
     "data": {
      "text/plain": [
       "array([[0.94086473, 0.05913527]])"
      ]
     },
     "execution_count": 13,
     "metadata": {},
     "output_type": "execute_result"
    }
   ],
   "source": [
    "# Resultado del algorimo: [probabilidad de que viva: probabilidad de que muera]\n",
    "prob = clf.predict_proba(x_pred_v)\n",
    "prob"
   ]
  },
  {
   "cell_type": "code",
   "execution_count": 14,
   "metadata": {},
   "outputs": [
    {
     "name": "stdout",
     "output_type": "stream",
     "text": [
      "Validation MAE: 0.14084507042253522\n",
      "Validation MSE: 0.14084507042253522\n",
      "Validation RMSE: 0.37529331252040077\n"
     ]
    }
   ],
   "source": [
    "# Metricas\n",
    "val_mae = mean_absolute_error(y_test , y_pred)\n",
    "print(\"Validation MAE: {}\".format(val_mae))\n",
    "\n",
    "val_mse = mean_squared_error(y_test , y_pred)\n",
    "print(\"Validation MSE: {}\".format(val_mse))\n",
    "\n",
    "val_rmse = mean_squared_error(y_test , y_pred, squared=False)\n",
    "print(\"Validation RMSE: {}\".format(val_rmse))"
   ]
  },
  {
   "cell_type": "code",
   "execution_count": 15,
   "metadata": {},
   "outputs": [
    {
     "name": "stdout",
     "output_type": "stream",
     "text": [
      "0.8469047619047618\n"
     ]
    }
   ],
   "source": [
    "# Cross Validation\n",
    "print(cross_val_score(clf, X, y, cv=10, scoring='accuracy').mean())"
   ]
  },
  {
   "attachments": {},
   "cell_type": "markdown",
   "metadata": {},
   "source": [
    "# MLP REGRESSOR"
   ]
  },
  {
   "cell_type": "code",
   "execution_count": 16,
   "metadata": {},
   "outputs": [],
   "source": [
    "# Se aplica un MLP Regressor\n",
    "nn=MLPRegressor(activation='logistic',solver='sgd',hidden_layer_sizes=(120, 40),random_state=1)\n",
    "nn.fit(X_train, y_train)\n",
    "nn_pred=nn.predict(X_test)"
   ]
  },
  {
   "cell_type": "code",
   "execution_count": 17,
   "metadata": {},
   "outputs": [
    {
     "name": "stdout",
     "output_type": "stream",
     "text": [
      "MAE: 0.49941487530052975\n",
      "MSE: 0.25376807944314594\n",
      "MSE: 0.5037539870245653\n"
     ]
    }
   ],
   "source": [
    "# Metricas\n",
    "print(f\"MAE: {mean_absolute_error(y_test, nn_pred)}\")\n",
    "print(f\"MSE: {mean_squared_error(y_test, nn_pred)}\")\n",
    "print(f\"MSE: {mean_squared_error(y_test, nn_pred, squared=False)}\")"
   ]
  }
 ],
 "metadata": {
  "kernelspec": {
   "display_name": "bigdata",
   "language": "python",
   "name": "python3"
  },
  "language_info": {
   "codemirror_mode": {
    "name": "ipython",
    "version": 3
   },
   "file_extension": ".py",
   "mimetype": "text/x-python",
   "name": "python",
   "nbconvert_exporter": "python",
   "pygments_lexer": "ipython3",
   "version": "3.9.12"
  },
  "orig_nbformat": 4,
  "vscode": {
   "interpreter": {
    "hash": "11d9e86a5b32bb4f6fca170b3582b53b095dfd4c8d22e3c983b07b46159c95bb"
   }
  }
 },
 "nbformat": 4,
 "nbformat_minor": 2
}
