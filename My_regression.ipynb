{
 "cells": [
  {
   "cell_type": "code",
   "execution_count": 18,
   "id": "initial_id",
   "metadata": {
    "collapsed": true,
    "ExecuteTime": {
     "end_time": "2024-01-13T21:56:14.668341Z",
     "start_time": "2024-01-13T21:56:14.416632800Z"
    }
   },
   "outputs": [],
   "source": [
    "import pandas as pd"
   ]
  },
  {
   "cell_type": "code",
   "execution_count": 19,
   "outputs": [
    {
     "data": {
      "text/plain": "   Edad  Diag.Ing1  Diag.Ing2  Diag.Egr1  Diag.Egr2  APACHE  TiempoVAM  \\\n0    35          1          0          1          0      10          2   \n1    87          2          0          2          0      16          2   \n2    70          4          0          4          0      11          2   \n3    24         13          0         13          5      11          2   \n4    24          3          0          3          0      17          3   \n\n   Fallece  \n0        0  \n1        0  \n2        0  \n3        0  \n4        0  ",
      "text/html": "<div>\n<style scoped>\n    .dataframe tbody tr th:only-of-type {\n        vertical-align: middle;\n    }\n\n    .dataframe tbody tr th {\n        vertical-align: top;\n    }\n\n    .dataframe thead th {\n        text-align: right;\n    }\n</style>\n<table border=\"1\" class=\"dataframe\">\n  <thead>\n    <tr style=\"text-align: right;\">\n      <th></th>\n      <th>Edad</th>\n      <th>Diag.Ing1</th>\n      <th>Diag.Ing2</th>\n      <th>Diag.Egr1</th>\n      <th>Diag.Egr2</th>\n      <th>APACHE</th>\n      <th>TiempoVAM</th>\n      <th>Fallece</th>\n    </tr>\n  </thead>\n  <tbody>\n    <tr>\n      <th>0</th>\n      <td>35</td>\n      <td>1</td>\n      <td>0</td>\n      <td>1</td>\n      <td>0</td>\n      <td>10</td>\n      <td>2</td>\n      <td>0</td>\n    </tr>\n    <tr>\n      <th>1</th>\n      <td>87</td>\n      <td>2</td>\n      <td>0</td>\n      <td>2</td>\n      <td>0</td>\n      <td>16</td>\n      <td>2</td>\n      <td>0</td>\n    </tr>\n    <tr>\n      <th>2</th>\n      <td>70</td>\n      <td>4</td>\n      <td>0</td>\n      <td>4</td>\n      <td>0</td>\n      <td>11</td>\n      <td>2</td>\n      <td>0</td>\n    </tr>\n    <tr>\n      <th>3</th>\n      <td>24</td>\n      <td>13</td>\n      <td>0</td>\n      <td>13</td>\n      <td>5</td>\n      <td>11</td>\n      <td>2</td>\n      <td>0</td>\n    </tr>\n    <tr>\n      <th>4</th>\n      <td>24</td>\n      <td>3</td>\n      <td>0</td>\n      <td>3</td>\n      <td>0</td>\n      <td>17</td>\n      <td>3</td>\n      <td>0</td>\n    </tr>\n  </tbody>\n</table>\n</div>"
     },
     "execution_count": 19,
     "metadata": {},
     "output_type": "execute_result"
    }
   ],
   "source": [
    "df = pd.read_csv(\"Datos_regresion.csv\") # read in data downloaded to the local directory\n",
    "df.head()"
   ],
   "metadata": {
    "collapsed": false,
    "ExecuteTime": {
     "end_time": "2024-01-13T21:56:14.672349900Z",
     "start_time": "2024-01-13T21:56:14.432632200Z"
    }
   },
   "id": "7f9420eae097f2f5"
  },
  {
   "cell_type": "code",
   "execution_count": 20,
   "outputs": [
    {
     "data": {
      "text/plain": "Edad         0\nDiag.Ing1    0\nDiag.Ing2    0\nDiag.Egr1    0\nDiag.Egr2    0\nAPACHE       0\nTiempoVAM    0\nFallece      0\ndtype: int64"
     },
     "execution_count": 20,
     "metadata": {},
     "output_type": "execute_result"
    }
   ],
   "source": [
    "# Verificamos si hay algún elemento nulo\n",
    "df.isnull().sum()"
   ],
   "metadata": {
    "collapsed": false,
    "ExecuteTime": {
     "end_time": "2024-01-13T21:56:14.695656800Z",
     "start_time": "2024-01-13T21:56:14.477595300Z"
    }
   },
   "id": "7c745f2547bc6173"
  },
  {
   "cell_type": "code",
   "execution_count": 22,
   "outputs": [
    {
     "data": {
      "text/plain": "             Edad   Diag.Ing1   Diag.Ing2   Diag.Egr1   Diag.Egr2      APACHE  \\\ncount  208.000000  208.000000  208.000000  208.000000  208.000000  208.000000   \nmean    54.192308   11.423077    7.990385   11.418269   10.139423   13.711538   \nstd     18.983378    9.022454    8.792833    8.935791    8.781556    6.344648   \nmin     17.000000    1.000000    0.000000    1.000000    0.000000    2.000000   \n25%     42.000000    4.000000    0.000000    4.000000    0.000000    9.000000   \n50%     56.000000   10.000000    6.000000    9.000000   10.000000   13.000000   \n75%     68.000000   14.000000   16.000000   14.000000   16.250000   18.000000   \nmax     91.000000   40.000000   36.000000   40.000000   36.000000   36.000000   \n\n        TiempoVAM     Fallece  \ncount  208.000000  208.000000  \nmean     5.865385    0.153846  \nstd     10.697472    0.361672  \nmin      1.000000    0.000000  \n25%      2.000000    0.000000  \n50%      3.000000    0.000000  \n75%      7.000000    0.000000  \nmax    144.000000    1.000000  ",
      "text/html": "<div>\n<style scoped>\n    .dataframe tbody tr th:only-of-type {\n        vertical-align: middle;\n    }\n\n    .dataframe tbody tr th {\n        vertical-align: top;\n    }\n\n    .dataframe thead th {\n        text-align: right;\n    }\n</style>\n<table border=\"1\" class=\"dataframe\">\n  <thead>\n    <tr style=\"text-align: right;\">\n      <th></th>\n      <th>Edad</th>\n      <th>Diag.Ing1</th>\n      <th>Diag.Ing2</th>\n      <th>Diag.Egr1</th>\n      <th>Diag.Egr2</th>\n      <th>APACHE</th>\n      <th>TiempoVAM</th>\n      <th>Fallece</th>\n    </tr>\n  </thead>\n  <tbody>\n    <tr>\n      <th>count</th>\n      <td>208.000000</td>\n      <td>208.000000</td>\n      <td>208.000000</td>\n      <td>208.000000</td>\n      <td>208.000000</td>\n      <td>208.000000</td>\n      <td>208.000000</td>\n      <td>208.000000</td>\n    </tr>\n    <tr>\n      <th>mean</th>\n      <td>54.192308</td>\n      <td>11.423077</td>\n      <td>7.990385</td>\n      <td>11.418269</td>\n      <td>10.139423</td>\n      <td>13.711538</td>\n      <td>5.865385</td>\n      <td>0.153846</td>\n    </tr>\n    <tr>\n      <th>std</th>\n      <td>18.983378</td>\n      <td>9.022454</td>\n      <td>8.792833</td>\n      <td>8.935791</td>\n      <td>8.781556</td>\n      <td>6.344648</td>\n      <td>10.697472</td>\n      <td>0.361672</td>\n    </tr>\n    <tr>\n      <th>min</th>\n      <td>17.000000</td>\n      <td>1.000000</td>\n      <td>0.000000</td>\n      <td>1.000000</td>\n      <td>0.000000</td>\n      <td>2.000000</td>\n      <td>1.000000</td>\n      <td>0.000000</td>\n    </tr>\n    <tr>\n      <th>25%</th>\n      <td>42.000000</td>\n      <td>4.000000</td>\n      <td>0.000000</td>\n      <td>4.000000</td>\n      <td>0.000000</td>\n      <td>9.000000</td>\n      <td>2.000000</td>\n      <td>0.000000</td>\n    </tr>\n    <tr>\n      <th>50%</th>\n      <td>56.000000</td>\n      <td>10.000000</td>\n      <td>6.000000</td>\n      <td>9.000000</td>\n      <td>10.000000</td>\n      <td>13.000000</td>\n      <td>3.000000</td>\n      <td>0.000000</td>\n    </tr>\n    <tr>\n      <th>75%</th>\n      <td>68.000000</td>\n      <td>14.000000</td>\n      <td>16.000000</td>\n      <td>14.000000</td>\n      <td>16.250000</td>\n      <td>18.000000</td>\n      <td>7.000000</td>\n      <td>0.000000</td>\n    </tr>\n    <tr>\n      <th>max</th>\n      <td>91.000000</td>\n      <td>40.000000</td>\n      <td>36.000000</td>\n      <td>40.000000</td>\n      <td>36.000000</td>\n      <td>36.000000</td>\n      <td>144.000000</td>\n      <td>1.000000</td>\n    </tr>\n  </tbody>\n</table>\n</div>"
     },
     "execution_count": 22,
     "metadata": {},
     "output_type": "execute_result"
    }
   ],
   "source": [
    "df.describe()"
   ],
   "metadata": {
    "collapsed": false,
    "ExecuteTime": {
     "start_time": "2024-01-13T21:56:14.535240500Z"
    }
   },
   "id": "ff90af6e9cf40ed0"
  },
  {
   "cell_type": "code",
   "execution_count": 23,
   "outputs": [
    {
     "data": {
      "text/plain": "   Edad  APACHE  TiempoVAM  Diag.Ing1_1  Diag.Ing1_2  Diag.Ing1_3  \\\n0    35      10          2         True        False        False   \n1    87      16          2        False         True        False   \n2    70      11          2        False        False        False   \n3    24      11          2        False        False        False   \n4    24      17          3        False        False         True   \n\n   Diag.Ing1_4  Diag.Ing1_5  Diag.Ing1_6  Diag.Ing1_7  ...  Diag.Egr2_21  \\\n0        False        False        False        False  ...         False   \n1        False        False        False        False  ...         False   \n2         True        False        False        False  ...         False   \n3        False        False        False        False  ...         False   \n4        False        False        False        False  ...         False   \n\n   Diag.Egr2_22  Diag.Egr2_23  Diag.Egr2_24  Diag.Egr2_25  Diag.Egr2_27  \\\n0         False         False         False         False         False   \n1         False         False         False         False         False   \n2         False         False         False         False         False   \n3         False         False         False         False         False   \n4         False         False         False         False         False   \n\n   Diag.Egr2_33  Diag.Egr2_34  Diag.Egr2_36  Fallece  \n0         False         False         False        0  \n1         False         False         False        0  \n2         False         False         False        0  \n3         False         False         False        0  \n4         False         False         False        0  \n\n[5 rows x 117 columns]",
      "text/html": "<div>\n<style scoped>\n    .dataframe tbody tr th:only-of-type {\n        vertical-align: middle;\n    }\n\n    .dataframe tbody tr th {\n        vertical-align: top;\n    }\n\n    .dataframe thead th {\n        text-align: right;\n    }\n</style>\n<table border=\"1\" class=\"dataframe\">\n  <thead>\n    <tr style=\"text-align: right;\">\n      <th></th>\n      <th>Edad</th>\n      <th>APACHE</th>\n      <th>TiempoVAM</th>\n      <th>Diag.Ing1_1</th>\n      <th>Diag.Ing1_2</th>\n      <th>Diag.Ing1_3</th>\n      <th>Diag.Ing1_4</th>\n      <th>Diag.Ing1_5</th>\n      <th>Diag.Ing1_6</th>\n      <th>Diag.Ing1_7</th>\n      <th>...</th>\n      <th>Diag.Egr2_21</th>\n      <th>Diag.Egr2_22</th>\n      <th>Diag.Egr2_23</th>\n      <th>Diag.Egr2_24</th>\n      <th>Diag.Egr2_25</th>\n      <th>Diag.Egr2_27</th>\n      <th>Diag.Egr2_33</th>\n      <th>Diag.Egr2_34</th>\n      <th>Diag.Egr2_36</th>\n      <th>Fallece</th>\n    </tr>\n  </thead>\n  <tbody>\n    <tr>\n      <th>0</th>\n      <td>35</td>\n      <td>10</td>\n      <td>2</td>\n      <td>True</td>\n      <td>False</td>\n      <td>False</td>\n      <td>False</td>\n      <td>False</td>\n      <td>False</td>\n      <td>False</td>\n      <td>...</td>\n      <td>False</td>\n      <td>False</td>\n      <td>False</td>\n      <td>False</td>\n      <td>False</td>\n      <td>False</td>\n      <td>False</td>\n      <td>False</td>\n      <td>False</td>\n      <td>0</td>\n    </tr>\n    <tr>\n      <th>1</th>\n      <td>87</td>\n      <td>16</td>\n      <td>2</td>\n      <td>False</td>\n      <td>True</td>\n      <td>False</td>\n      <td>False</td>\n      <td>False</td>\n      <td>False</td>\n      <td>False</td>\n      <td>...</td>\n      <td>False</td>\n      <td>False</td>\n      <td>False</td>\n      <td>False</td>\n      <td>False</td>\n      <td>False</td>\n      <td>False</td>\n      <td>False</td>\n      <td>False</td>\n      <td>0</td>\n    </tr>\n    <tr>\n      <th>2</th>\n      <td>70</td>\n      <td>11</td>\n      <td>2</td>\n      <td>False</td>\n      <td>False</td>\n      <td>False</td>\n      <td>True</td>\n      <td>False</td>\n      <td>False</td>\n      <td>False</td>\n      <td>...</td>\n      <td>False</td>\n      <td>False</td>\n      <td>False</td>\n      <td>False</td>\n      <td>False</td>\n      <td>False</td>\n      <td>False</td>\n      <td>False</td>\n      <td>False</td>\n      <td>0</td>\n    </tr>\n    <tr>\n      <th>3</th>\n      <td>24</td>\n      <td>11</td>\n      <td>2</td>\n      <td>False</td>\n      <td>False</td>\n      <td>False</td>\n      <td>False</td>\n      <td>False</td>\n      <td>False</td>\n      <td>False</td>\n      <td>...</td>\n      <td>False</td>\n      <td>False</td>\n      <td>False</td>\n      <td>False</td>\n      <td>False</td>\n      <td>False</td>\n      <td>False</td>\n      <td>False</td>\n      <td>False</td>\n      <td>0</td>\n    </tr>\n    <tr>\n      <th>4</th>\n      <td>24</td>\n      <td>17</td>\n      <td>3</td>\n      <td>False</td>\n      <td>False</td>\n      <td>True</td>\n      <td>False</td>\n      <td>False</td>\n      <td>False</td>\n      <td>False</td>\n      <td>...</td>\n      <td>False</td>\n      <td>False</td>\n      <td>False</td>\n      <td>False</td>\n      <td>False</td>\n      <td>False</td>\n      <td>False</td>\n      <td>False</td>\n      <td>False</td>\n      <td>0</td>\n    </tr>\n  </tbody>\n</table>\n<p>5 rows × 117 columns</p>\n</div>"
     },
     "execution_count": 23,
     "metadata": {},
     "output_type": "execute_result"
    }
   ],
   "source": [
    "# Se crea un nuevo dataset con los datos de forma tal que puedan ser procesados por el algoritmo\n",
    "df_new = df[[\"Edad\", \"APACHE\", \"TiempoVAM\"]]\n",
    "lista = [\"Diag.Ing1\", \"Diag.Ing2\", \"Diag.Egr1\", \"Diag.Egr2\"]\n",
    "for i in lista:\n",
    "    new = pd.get_dummies(df[i], prefix=i)\n",
    "    df_new = pd.concat([df_new , new], axis = 1)\n",
    "df_new = pd.concat([df_new , df.Fallece], axis =1)\n",
    "df = df_new\n",
    "df.head()"
   ],
   "metadata": {
    "collapsed": false,
    "ExecuteTime": {
     "end_time": "2024-01-13T21:56:14.732396700Z",
     "start_time": "2024-01-13T21:56:14.620213300Z"
    }
   },
   "id": "b395c3bcc6c563aa"
  },
  {
   "cell_type": "code",
   "execution_count": null,
   "outputs": [],
   "source": [
    "# Tomamos un dato para predecir su probabilidad de morir\n",
    "x_pred_f = df.loc[df.Fallece == 1]\n",
    "x_pred_f = x_pred_f[1:2]\n",
    "x_pred_f = x_pred_f.drop(\"Fallece\", axis =1)"
   ],
   "metadata": {
    "collapsed": false
   },
   "id": "5ddb63bd50f318c3"
  },
  {
   "cell_type": "code",
   "execution_count": null,
   "outputs": [],
   "source": [
    "# Tomamos un dato para predecir su probabilidad de vivir\n",
    "x_pred_v = df.loc[df.Fallece == 0]\n",
    "x_pred_v = x_pred_v[:1]\n",
    "x_pred_v = x_pred_v.drop(\"Fallece\", axis =1)"
   ],
   "metadata": {
    "collapsed": false
   },
   "id": "1fd241f2dfb7b788"
  }
 ],
 "metadata": {
  "kernelspec": {
   "display_name": "Python 3",
   "language": "python",
   "name": "python3"
  },
  "language_info": {
   "codemirror_mode": {
    "name": "ipython",
    "version": 2
   },
   "file_extension": ".py",
   "mimetype": "text/x-python",
   "name": "python",
   "nbconvert_exporter": "python",
   "pygments_lexer": "ipython2",
   "version": "2.7.6"
  }
 },
 "nbformat": 4,
 "nbformat_minor": 5
}
